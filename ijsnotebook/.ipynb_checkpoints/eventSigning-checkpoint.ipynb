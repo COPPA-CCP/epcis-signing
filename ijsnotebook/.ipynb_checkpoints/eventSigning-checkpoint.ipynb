{
 "cells": [
  {
   "attachments": {},
   "cell_type": "markdown",
   "id": "863f3001",
   "metadata": {},
   "source": [
    "## EPCIS Signing Example"
   ]
  },
  {
   "attachments": {},
   "cell_type": "markdown",
   "id": "09cbdfdb",
   "metadata": {},
   "source": [
    "### Import libary\n",
    "\n",
    "Make sure you have installed the epcis-signing package by executing `npm i epcis-signing`\n",
    "If you are using a commonJS environment make sure to have installed `esm-hook` as well."
   ]
  },
  {
   "cell_type": "code",
   "execution_count": 1,
   "id": "46f2b98c",
   "metadata": {
    "scrolled": true
   },
   "outputs": [
    {
     "data": {
      "text/plain": [
       "[Function (anonymous)]"
      ]
     },
     "execution_count": 1,
     "metadata": {},
     "output_type": "execute_result"
    }
   ],
   "source": [
    "require('esm-hook');\n",
    "\n",
    "const epcisSigning = require('epcis-signing');\n",
    "const Ed25519VerificationKey2020 = require('@digitalbazaar/ed25519-verification-key-2020');"
   ]
  },
  {
   "attachments": {},
   "cell_type": "markdown",
   "id": "0a5bb096",
   "metadata": {},
   "source": [
    "### Create a dummy EPICS Event\n",
    "\n",
    "For this example we will use an ObjectEvent"
   ]
  },
  {
   "cell_type": "code",
   "execution_count": 2,
   "id": "f94cbf33",
   "metadata": {},
   "outputs": [],
   "source": [
    "const epcisEvent = {\n",
    "    \"@context\": [\n",
    "      \"https://ref.gs1.org/standards/epcis/2.0.0/epcis-context.jsonld\"\n",
    "    ],\n",
    "    \"type\": \"EPCISDocument\",\n",
    "    \"schemaVersion\": \"2.0\",\n",
    "    \"creationDate\": \"2023-05-09T12:00:00.000+01:00\",\n",
    "    \"epcisBody\": {\n",
    "      \"eventList\": [\n",
    "        {\n",
    "          \"type\": \"ObjectEvent\",\n",
    "          \"eventID\": \"ni:///sha-256;e569889a66b4bd11650849abb2e1e8d2699e0d129357304bebda5fed1a68b5b3?ver=CBV2.0\",\n",
    "          \"eventTime\": \"2023-05-09T11:04:03.15Z\",\n",
    "          \"eventTimeZoneOffset\": \"+01:00\",\n",
    "          \"epcList\": [\n",
    "              \"https://id.gs1.org/01/04012345999990/21/XYZ-1234\"\n",
    "          ],\n",
    "          \"action\": \"OBSERVE\",\n",
    "          \"bizStep\": \"repairing\",\n",
    "          \"disposition\": \"conformant\",\n",
    "          \"readPoint\": {\n",
    "              \"id\": \"https://id.gs1.org/414/4012345000115\"\n",
    "          }\n",
    "        }\n",
    "      ]\n",
    "    }\n",
    "  }"
   ]
  },
  {
   "attachments": {},
   "cell_type": "markdown",
   "id": "2227f00c",
   "metadata": {},
   "source": [
    "### Generate a key pair\n",
    "\n",
    "In order to sign the event you will need a cryptographic key pair. We create an async function to do so."
   ]
  },
  {
   "cell_type": "code",
   "execution_count": 3,
   "id": "ba60e9ac",
   "metadata": {},
   "outputs": [],
   "source": [
    "async function getKeyPair() {\n",
    "\n",
    "    // generate the keyPair from seed\n",
    "    let keyPair = await Ed25519VerificationKey2020.Ed25519VerificationKey2020.generate();\n",
    "\n",
    "    // name the keyPair in order to make it resolvable\n",
    "    keyPair.id = 'did:key:' + keyPair.publicKeyMultibase + '#' + keyPair.publicKeyMultibase;\n",
    "    keyPair.controller = 'did:key:' + keyPair.publicKeyMultibase;\n",
    "\n",
    "    return keyPair;\n",
    "\n",
    "}"
   ]
  },
  {
   "attachments": {},
   "cell_type": "markdown",
   "id": "50464f76",
   "metadata": {},
   "source": [
    "### Create signing function\n",
    "\n",
    "Create an ansyc signing function combining the signing and the key creation.,"
   ]
  },
  {
   "cell_type": "code",
   "execution_count": 4,
   "id": "6ddf2448",
   "metadata": {},
   "outputs": [],
   "source": [
    "async function signEvent() {\n",
    "\n",
    "    const keyPair = await getKeyPair();\n",
    "    \n",
    "    console.log('--------------------------------Generated key pair-----------------------------------');\n",
    "    \n",
    "    console.log(keyPair);\n",
    "\n",
    "    return await epcisSigning.sign(epcisEvent, keyPair, 'https://test.com/vc/12345')\n",
    "\n",
    "}"
   ]
  },
  {
   "attachments": {},
   "cell_type": "markdown",
   "id": "5bc9eded",
   "metadata": {},
   "source": [
    "### Sign the event\n",
    "\n",
    "Call the async `signEvent` function, wait for the promise to resolve and log the result."
   ]
  },
  {
   "cell_type": "code",
   "execution_count": 5,
   "id": "f25e6b8a",
   "metadata": {},
   "outputs": [
    {
     "data": {
      "text/plain": [
       "Promise { <pending> }"
      ]
     },
     "execution_count": 5,
     "metadata": {},
     "output_type": "execute_result"
    },
    {
     "name": "stdout",
     "output_type": "stream",
     "text": [
      "--------------------------------Generated key pair-----------------------------------\n",
      "Ed25519VerificationKey2020 {\n",
      "  id: 'did:key:z6MknqxKBCxia9jUQwfASZTsuQAeg6QPwbzq3wVGKyS8mRnu#z6MknqxKBCxia9jUQwfASZTsuQAeg6QPwbzq3wVGKyS8mRnu',\n",
      "  controller: 'did:key:z6MknqxKBCxia9jUQwfASZTsuQAeg6QPwbzq3wVGKyS8mRnu',\n",
      "  revoked: undefined,\n",
      "  type: 'Ed25519VerificationKey2020',\n",
      "  publicKeyMultibase: 'z6MknqxKBCxia9jUQwfASZTsuQAeg6QPwbzq3wVGKyS8mRnu',\n",
      "  privateKeyMultibase: 'zrv4LFUwJJNRBphFMpuhhGSKLgeEse2kJTzYZvhkDmeqChcWk7z3xm9PrHNSufAnvgL7J4pXAjjLSdCgpxSsvoZuLz1'\n",
      "}\n",
      "------------------------Signed event as verifiable credential------------------------\n",
      "{\n",
      "  '@context': [\n",
      "    'https://www.w3.org/2018/credentials/v1',\n",
      "    'https://w3id.org/security/suites/ed25519-2020/v1'\n",
      "  ],\n",
      "  type: [ 'VerifiableCredential' ],\n",
      "  id: 'https://test.com/vc/12345',\n",
      "  issuer: 'did:key:z6MknqxKBCxia9jUQwfASZTsuQAeg6QPwbzq3wVGKyS8mRnu',\n",
      "  issuanceDate: '2023-05-08T13:36:43Z',\n",
      "  credentialSubject: {\n",
      "    '@context': [\n",
      "      'https://ref.gs1.org/standards/epcis/2.0.0/epcis-context.jsonld'\n",
      "    ],\n",
      "    type: 'ObjectEvent',\n",
      "    id: 'https://testid.com/epcis/event/12345',\n",
      "    eventTime: '2023-02-07T11:04:03.15Z',\n",
      "    eventTimeZoneOffset: '+01:00',\n",
      "    epcList: [ 'https://id.eecc.de/01/04012345999990/21/XYZ-1234' ],\n",
      "    action: 'OBSERVE',\n",
      "    bizStep: 'repairing',\n",
      "    disposition: 'conformant',\n",
      "    readPoint: { id: 'https://id.eecc.de/414/4012345000115' }\n",
      "  },\n",
      "  proof: {\n",
      "    type: 'Ed25519Signature2020',\n",
      "    created: '2023-05-08T13:36:43Z',\n",
      "    verificationMethod: 'did:key:z6MknqxKBCxia9jUQwfASZTsuQAeg6QPwbzq3wVGKyS8mRnu#z6MknqxKBCxia9jUQwfASZTsuQAeg6QPwbzq3wVGKyS8mRnu',\n",
      "    proofPurpose: 'assertionMethod',\n",
      "    proofValue: 'z2NUZ9WS5NfoJhZ5KNktHWwGTur2mm6KT4Rsj88bo9LCmp8CPFoanpH4Ywh31jSwkqEXdeTUXuXVvj4YwPrz3X31M'\n",
      "  }\n",
      "}\n"
     ]
    }
   ],
   "source": [
    "signEvent()\n",
    "    .then((signedCred) => {\n",
    "        console.log('------------------------Signed event as verifiable credential------------------------');\n",
    "        console.log(signedCred);\n",
    "    });"
   ]
  },
  {
   "cell_type": "code",
   "execution_count": null,
   "id": "90fa2a42",
   "metadata": {},
   "outputs": [],
   "source": []
  }
 ],
 "metadata": {
  "kernelspec": {
   "display_name": "JavaScript (Node.js)",
   "language": "javascript",
   "name": "javascript"
  },
  "language_info": {
   "file_extension": ".js",
   "mimetype": "application/javascript",
   "name": "javascript",
   "version": "16.17.0"
  }
 },
 "nbformat": 4,
 "nbformat_minor": 5
}
