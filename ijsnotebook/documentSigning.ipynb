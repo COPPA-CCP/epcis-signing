{
 "cells": [
  {
   "cell_type": "markdown",
   "id": "863f3001",
   "metadata": {},
   "source": [
    "## EPCIS Document Signing Example"
   ]
  },
  {
   "cell_type": "markdown",
   "id": "09cbdfdb",
   "metadata": {},
   "source": [
    "### Import libary\n",
    "\n",
    "Make sure you have installed the epcis-signing package by executing `npm i epcis-signing`\n",
    "If you are using a commonJS environment make sure to have installed `esm-hook` as well."
   ]
  },
  {
   "cell_type": "code",
   "execution_count": 1,
   "id": "46f2b98c",
   "metadata": {
    "scrolled": true
   },
   "outputs": [
    {
     "data": {
      "text/plain": [
       "[Function (anonymous)]"
      ]
     },
     "execution_count": 1,
     "metadata": {},
     "output_type": "execute_result"
    }
   ],
   "source": [
    "require('esm-hook');\n",
    "\n",
    "const epcisSigning = require('epcis-signing');\n",
    "const Ed25519VerificationKey2020 = require('@digitalbazaar/ed25519-verification-key-2020');"
   ]
  },
  {
   "cell_type": "markdown",
   "id": "0a5bb096",
   "metadata": {},
   "source": [
    "### Create a dummy EPICS Document\n",
    "\n",
    "For this example we will use a document containing an ObjectEvent"
   ]
  },
  {
   "cell_type": "code",
   "execution_count": 2,
   "id": "f94cbf33",
   "metadata": {},
   "outputs": [],
   "source": [
    "const epcisDocument = {\n",
    "  \"@context\": [\n",
    "    \"https://ref.gs1.org/standards/epcis/2.0.0/epcis-context.jsonld\"\n",
    "  ],\n",
    "  \"id\": \"https://id.eecc.de/epcis/document/12345\",\n",
    "  \"type\": \"EPCISDocument\",\n",
    "  \"schemaVersion\": \"2.0\",\n",
    "  \"creationDate\": \"2023-02-07T11:05:00.0Z\",\n",
    "  \"epcisBody\": {\n",
    "    \"eventList\": [\n",
    "      {\n",
    "        \"type\": \"ObjectEvent\",\n",
    "        \"id\": 'https://testid.com',\n",
    "        \"eventTime\": \"2023-02-07T11:04:03.15Z\",\n",
    "        \"eventTimeZoneOffset\": \"+01:00\",\n",
    "        \"epcList\": [\n",
    "          \"https://id.eecc.de/01/04012345999990/21/XYZ-1234\"\n",
    "        ],\n",
    "        \"action\": \"OBSERVE\",\n",
    "        \"bizStep\": \"repairing\",\n",
    "        \"disposition\": \"conformant\",\n",
    "        \"readPoint\": {\n",
    "          \"id\": \"https://id.eecc.de/414/4012345000115\"\n",
    "        }\n",
    "      }\n",
    "    ]\n",
    "  }\n",
    "}"
   ]
  },
  {
   "cell_type": "markdown",
   "id": "2227f00c",
   "metadata": {},
   "source": [
    "### Generate a key pair\n",
    "\n",
    "In order to sign the event you will need a cryptographic key pair. We create an async function to do so."
   ]
  },
  {
   "cell_type": "code",
   "execution_count": 3,
   "id": "ba60e9ac",
   "metadata": {},
   "outputs": [],
   "source": [
    "async function getKeyPair() {\n",
    "\n",
    "    // generate the keyPair from seed\n",
    "    let keyPair = await Ed25519VerificationKey2020.Ed25519VerificationKey2020.generate();\n",
    "\n",
    "    // name the keyPair in order to make it resolvable\n",
    "    keyPair.id = 'did:key:' + keyPair.publicKeyMultibase + '#' + keyPair.publicKeyMultibase;\n",
    "    keyPair.controller = 'did:key:' + keyPair.publicKeyMultibase;\n",
    "\n",
    "    return keyPair;\n",
    "\n",
    "}"
   ]
  },
  {
   "cell_type": "markdown",
   "id": "50464f76",
   "metadata": {},
   "source": [
    "### Create signing function\n",
    "\n",
    "Create an ansyc signing function combining the signing and the key creation.,"
   ]
  },
  {
   "cell_type": "code",
   "execution_count": 4,
   "id": "6ddf2448",
   "metadata": {},
   "outputs": [],
   "source": [
    "async function signDocument(document) {\n",
    "\n",
    "    const keyPair = await getKeyPair();\n",
    "    \n",
    "    console.log('--------------------------------Generated key pair-----------------------------------');\n",
    "    \n",
    "    console.log(keyPair);\n",
    "\n",
    "    return await epcisSigning.sign(document, keyPair, 'https://test.com/vc/12345')\n",
    "\n",
    "}"
   ]
  },
  {
   "cell_type": "markdown",
   "id": "5bc9eded",
   "metadata": {},
   "source": [
    "### Sign the document\n",
    "\n",
    "Call the async `signDocument` function, wait for the promise to resolve and log the result."
   ]
  },
  {
   "cell_type": "code",
   "execution_count": 5,
   "id": "f25e6b8a",
   "metadata": {},
   "outputs": [
    {
     "data": {
      "text/plain": [
       "Promise { <pending> }"
      ]
     },
     "execution_count": 5,
     "metadata": {},
     "output_type": "execute_result"
    },
    {
     "name": "stdout",
     "output_type": "stream",
     "text": [
      "--------------------------------Generated key pair-----------------------------------\n",
      "Ed25519VerificationKey2020 {\n",
      "  id: 'did:key:z6MkuweQW7Vbe9Za5YdPPNVVGU5CdH1wTM2FC4CCEZTHA9oj#z6MkuweQW7Vbe9Za5YdPPNVVGU5CdH1wTM2FC4CCEZTHA9oj',\n",
      "  controller: 'did:key:z6MkuweQW7Vbe9Za5YdPPNVVGU5CdH1wTM2FC4CCEZTHA9oj',\n",
      "  revoked: undefined,\n",
      "  type: 'Ed25519VerificationKey2020',\n",
      "  publicKeyMultibase: 'z6MkuweQW7Vbe9Za5YdPPNVVGU5CdH1wTM2FC4CCEZTHA9oj',\n",
      "  privateKeyMultibase: 'zrv599ZwTHozbWabLFZJxU3Lvi3DaTpaoxvwJgrPhfU9xq8gjtr3VhARysfCuqXFLRQxVgccj2YfZ4yLH7m2zvENWpm'\n",
      "}\n",
      "------------------------Signed event as verifiable credential------------------------\n",
      "{\n",
      "  '@context': [\n",
      "    'https://www.w3.org/2018/credentials/v1',\n",
      "    'https://w3id.org/security/suites/ed25519-2020/v1'\n",
      "  ],\n",
      "  type: [ 'VerifiableCredential' ],\n",
      "  id: 'https://test.com/vc/12345',\n",
      "  issuer: 'did:key:z6MkuweQW7Vbe9Za5YdPPNVVGU5CdH1wTM2FC4CCEZTHA9oj',\n",
      "  issuanceDate: '2023-05-09T08:48:02Z',\n",
      "  credentialSubject: {\n",
      "    '@context': [\n",
      "      'https://ref.gs1.org/standards/epcis/2.0.0/epcis-context.jsonld'\n",
      "    ],\n",
      "    id: 'https://id.eecc.de/epcis/document/12345',\n",
      "    type: 'EPCISDocument',\n",
      "    schemaVersion: '2.0',\n",
      "    creationDate: '2023-02-07T11:05:00.0Z',\n",
      "    epcisBody: { eventList: [Array] }\n",
      "  },\n",
      "  proof: {\n",
      "    type: 'Ed25519Signature2020',\n",
      "    created: '2023-05-09T08:48:02Z',\n",
      "    verificationMethod: 'did:key:z6MkuweQW7Vbe9Za5YdPPNVVGU5CdH1wTM2FC4CCEZTHA9oj#z6MkuweQW7Vbe9Za5YdPPNVVGU5CdH1wTM2FC4CCEZTHA9oj',\n",
      "    proofPurpose: 'assertionMethod',\n",
      "    proofValue: 'zdktyjcueECALqVXzALKy5tMhpuhDkfttScPJPundAyHvyNn8RSBJ2856ikuZMwqotj4aHL4PxeJPH2wXNHmEj1R'\n",
      "  }\n",
      "}\n"
     ]
    }
   ],
   "source": [
    "signDocument(epcisDocument)\n",
    "    .then((signedCred) => {\n",
    "        console.log('----------------------Signed document as verifiable credential-----------------------');\n",
    "        console.log(signedCred);\n",
    "    });"
   ]
  },
  {
   "cell_type": "code",
   "execution_count": null,
   "id": "90fa2a42",
   "metadata": {},
   "outputs": [],
   "source": []
  }
 ],
 "metadata": {
  "kernelspec": {
   "display_name": "JavaScript (Node.js)",
   "language": "javascript",
   "name": "javascript"
  },
  "language_info": {
   "file_extension": ".js",
   "mimetype": "application/javascript",
   "name": "javascript",
   "version": "16.17.0"
  }
 },
 "nbformat": 4,
 "nbformat_minor": 5
}
